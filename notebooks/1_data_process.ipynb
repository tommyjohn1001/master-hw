{
 "cells": [
  {
   "cell_type": "code",
   "execution_count": 1,
   "metadata": {},
   "outputs": [
    {
     "name": "stdout",
     "output_type": "stream",
     "text": [
      "/Users/hoangle/Projects/two-tower\n"
     ]
    }
   ],
   "source": [
    "%cd ../"
   ]
  },
  {
   "cell_type": "code",
   "execution_count": 2,
   "metadata": {},
   "outputs": [],
   "source": [
    "import numpy as np\n",
    "import polars as pl\n",
    "import pandas as pd\n",
    "\n",
    "from utils import Paths, Dictionary"
   ]
  },
  {
   "cell_type": "markdown",
   "metadata": {},
   "source": [
    "# Read dataset"
   ]
  },
  {
   "cell_type": "code",
   "execution_count": 11,
   "metadata": {},
   "outputs": [
    {
     "data": {
      "text/html": [
       "<div><style>\n",
       ".dataframe > thead > tr,\n",
       ".dataframe > tbody > tr {\n",
       "  text-align: right;\n",
       "  white-space: pre-wrap;\n",
       "}\n",
       "</style>\n",
       "<small>shape: (5, 4)</small><table border=\"1\" class=\"dataframe\"><thead><tr><th>user_id:token</th><th>item_id:token</th><th>rating:float</th><th>timestamp:float</th></tr><tr><td>i64</td><td>i64</td><td>i64</td><td>i64</td></tr></thead><tbody><tr><td>1</td><td>1193</td><td>5</td><td>978300760</td></tr><tr><td>1</td><td>661</td><td>3</td><td>978302109</td></tr><tr><td>1</td><td>914</td><td>3</td><td>978301968</td></tr><tr><td>1</td><td>3408</td><td>4</td><td>978300275</td></tr><tr><td>1</td><td>2355</td><td>5</td><td>978824291</td></tr></tbody></table></div>"
      ],
      "text/plain": [
       "shape: (5, 4)\n",
       "┌───────────────┬───────────────┬──────────────┬─────────────────┐\n",
       "│ user_id:token ┆ item_id:token ┆ rating:float ┆ timestamp:float │\n",
       "│ ---           ┆ ---           ┆ ---          ┆ ---             │\n",
       "│ i64           ┆ i64           ┆ i64          ┆ i64             │\n",
       "╞═══════════════╪═══════════════╪══════════════╪═════════════════╡\n",
       "│ 1             ┆ 1193          ┆ 5            ┆ 978300760       │\n",
       "│ 1             ┆ 661           ┆ 3            ┆ 978302109       │\n",
       "│ 1             ┆ 914           ┆ 3            ┆ 978301968       │\n",
       "│ 1             ┆ 3408          ┆ 4            ┆ 978300275       │\n",
       "│ 1             ┆ 2355          ┆ 5            ┆ 978824291       │\n",
       "└───────────────┴───────────────┴──────────────┴─────────────────┘"
      ]
     },
     "execution_count": 11,
     "metadata": {},
     "output_type": "execute_result"
    }
   ],
   "source": [
    "path = \"data/raw/ml-1m/ml-1m.inter\"\n",
    "\n",
    "interactions_raw = pl.read_csv(path, separator='\\t')\n",
    "interactions_raw.head()"
   ]
  },
  {
   "cell_type": "code",
   "execution_count": 13,
   "metadata": {},
   "outputs": [
    {
     "data": {
      "text/html": [
       "<div><style>\n",
       ".dataframe > thead > tr,\n",
       ".dataframe > tbody > tr {\n",
       "  text-align: right;\n",
       "  white-space: pre-wrap;\n",
       "}\n",
       "</style>\n",
       "<small>shape: (5, 4)</small><table border=\"1\" class=\"dataframe\"><thead><tr><th>item_id:token</th><th>movie_title:token_seq</th><th>release_year:token</th><th>genre:token_seq</th></tr><tr><td>i64</td><td>str</td><td>i64</td><td>str</td></tr></thead><tbody><tr><td>1</td><td>&quot;Toy Story&quot;</td><td>1995</td><td>&quot;Animation Children&#x27;s Comedy&quot;</td></tr><tr><td>2</td><td>&quot;Jumanji&quot;</td><td>1995</td><td>&quot;Adventure Children&#x27;s Fantasy&quot;</td></tr><tr><td>3</td><td>&quot;Grumpier Old Men&quot;</td><td>1995</td><td>&quot;Comedy Romance&quot;</td></tr><tr><td>4</td><td>&quot;Waiting to Exhale&quot;</td><td>1995</td><td>&quot;Comedy Drama&quot;</td></tr><tr><td>5</td><td>&quot;Father of the Bride Part II&quot;</td><td>1995</td><td>&quot;Comedy&quot;</td></tr></tbody></table></div>"
      ],
      "text/plain": [
       "shape: (5, 4)\n",
       "┌───────────────┬─────────────────────────────┬────────────────────┬──────────────────────────────┐\n",
       "│ item_id:token ┆ movie_title:token_seq       ┆ release_year:token ┆ genre:token_seq              │\n",
       "│ ---           ┆ ---                         ┆ ---                ┆ ---                          │\n",
       "│ i64           ┆ str                         ┆ i64                ┆ str                          │\n",
       "╞═══════════════╪═════════════════════════════╪════════════════════╪══════════════════════════════╡\n",
       "│ 1             ┆ Toy Story                   ┆ 1995               ┆ Animation Children's Comedy  │\n",
       "│ 2             ┆ Jumanji                     ┆ 1995               ┆ Adventure Children's Fantasy │\n",
       "│ 3             ┆ Grumpier Old Men            ┆ 1995               ┆ Comedy Romance               │\n",
       "│ 4             ┆ Waiting to Exhale           ┆ 1995               ┆ Comedy Drama                 │\n",
       "│ 5             ┆ Father of the Bride Part II ┆ 1995               ┆ Comedy                       │\n",
       "└───────────────┴─────────────────────────────┴────────────────────┴──────────────────────────────┘"
      ]
     },
     "execution_count": 13,
     "metadata": {},
     "output_type": "execute_result"
    }
   ],
   "source": [
    "path = \"data/raw/ml-1m/ml-1m.item\"\n",
    "\n",
    "items_raw = pl.read_csv(path, separator='\\t')\n",
    "items_raw.head()"
   ]
  },
  {
   "cell_type": "markdown",
   "metadata": {},
   "source": [
    "# Process"
   ]
  },
  {
   "cell_type": "markdown",
   "metadata": {},
   "source": [
    "## Pre-process"
   ]
  },
  {
   "cell_type": "code",
   "execution_count": 5,
   "metadata": {},
   "outputs": [
    {
     "data": {
      "text/html": [
       "<div><style>\n",
       ".dataframe > thead > tr,\n",
       ".dataframe > tbody > tr {\n",
       "  text-align: right;\n",
       "  white-space: pre-wrap;\n",
       "}\n",
       "</style>\n",
       "<small>shape: (5, 3)</small><table border=\"1\" class=\"dataframe\"><thead><tr><th>user_id</th><th>product_id</th><th>timestamp</th></tr><tr><td>i64</td><td>i64</td><td>i64</td></tr></thead><tbody><tr><td>0</td><td>328100</td><td>1514332800</td></tr><tr><td>1</td><td>328100</td><td>1508112000</td></tr><tr><td>2</td><td>35140</td><td>1515024000</td></tr><tr><td>3</td><td>35140</td><td>1515024000</td></tr><tr><td>4</td><td>725280</td><td>1512259200</td></tr></tbody></table></div>"
      ],
      "text/plain": [
       "shape: (5, 3)\n",
       "┌─────────┬────────────┬────────────┐\n",
       "│ user_id ┆ product_id ┆ timestamp  │\n",
       "│ ---     ┆ ---        ┆ ---        │\n",
       "│ i64     ┆ i64        ┆ i64        │\n",
       "╞═════════╪════════════╪════════════╡\n",
       "│ 0       ┆ 328100     ┆ 1514332800 │\n",
       "│ 1       ┆ 328100     ┆ 1508112000 │\n",
       "│ 2       ┆ 35140      ┆ 1515024000 │\n",
       "│ 3       ┆ 35140      ┆ 1515024000 │\n",
       "│ 4       ┆ 725280     ┆ 1512259200 │\n",
       "└─────────┴────────────┴────────────┘"
      ]
     },
     "execution_count": 5,
     "metadata": {},
     "output_type": "execute_result"
    }
   ],
   "source": [
    "cols = {\n",
    "    'user_id:token': 'user_id', \n",
    "    'product_id:token': 'product_id',\n",
    "    'timestamp:float': 'timestamp'\n",
    "}\n",
    "\n",
    "interactions = interactions_raw.select(cols.keys()).rename(cols)\n",
    "\n",
    "interactions.head()"
   ]
  },
  {
   "cell_type": "code",
   "execution_count": 6,
   "metadata": {},
   "outputs": [
    {
     "data": {
      "text/html": [
       "<div><style>\n",
       ".dataframe > thead > tr,\n",
       ".dataframe > tbody > tr {\n",
       "  text-align: right;\n",
       "  white-space: pre-wrap;\n",
       "}\n",
       "</style>\n",
       "<small>shape: (5, 3)</small><table border=\"1\" class=\"dataframe\"><thead><tr><th>product_id</th><th>genres</th><th>price</th></tr><tr><td>f64</td><td>str</td><td>str</td></tr></thead><tbody><tr><td>643980.0</td><td>&quot;[Free to Play, Indie, RPG, Str…</td><td>&quot;Free To Play&quot;</td></tr><tr><td>670290.0</td><td>&quot;[Casual, Free to Play, Indie, …</td><td>&quot;Free to Play&quot;</td></tr><tr><td>767400.0</td><td>&quot;[Action, Adventure, Casual]&quot;</td><td>&quot;0.99&quot;</td></tr><tr><td>773570.0</td><td>null</td><td>&quot;2.99&quot;</td></tr><tr><td>772540.0</td><td>&quot;[Action, Adventure, Simulation…</td><td>&quot;3.99&quot;</td></tr></tbody></table></div>"
      ],
      "text/plain": [
       "shape: (5, 3)\n",
       "┌────────────┬─────────────────────────────────┬──────────────┐\n",
       "│ product_id ┆ genres                          ┆ price        │\n",
       "│ ---        ┆ ---                             ┆ ---          │\n",
       "│ f64        ┆ str                             ┆ str          │\n",
       "╞════════════╪═════════════════════════════════╪══════════════╡\n",
       "│ 643980.0   ┆ [Free to Play, Indie, RPG, Str… ┆ Free To Play │\n",
       "│ 670290.0   ┆ [Casual, Free to Play, Indie, … ┆ Free to Play │\n",
       "│ 767400.0   ┆ [Action, Adventure, Casual]     ┆ 0.99         │\n",
       "│ 773570.0   ┆ null                            ┆ 2.99         │\n",
       "│ 772540.0   ┆ [Action, Adventure, Simulation… ┆ 3.99         │\n",
       "└────────────┴─────────────────────────────────┴──────────────┘"
      ]
     },
     "execution_count": 6,
     "metadata": {},
     "output_type": "execute_result"
    }
   ],
   "source": [
    "cols = {\n",
    "    'product_id:token': 'product_id',\n",
    "    'genres:token_seq': 'genres',\n",
    "    'price:float': 'price'\n",
    "}\n",
    "\n",
    "items = items_raw.select(cols.keys()).rename(cols)\n",
    "items.head()"
   ]
  },
  {
   "cell_type": "code",
   "execution_count": 7,
   "metadata": {},
   "outputs": [
    {
     "data": {
      "text/html": [
       "<div><style>\n",
       ".dataframe > thead > tr,\n",
       ".dataframe > tbody > tr {\n",
       "  text-align: right;\n",
       "  white-space: pre-wrap;\n",
       "}\n",
       "</style>\n",
       "<small>shape: (5, 4)</small><table border=\"1\" class=\"dataframe\"><thead><tr><th>product_id</th><th>genres</th><th>price</th><th>literal</th></tr><tr><td>f64</td><td>str</td><td>str</td><td>f32</td></tr></thead><tbody><tr><td>643980.0</td><td>&quot;[Free to Play, Indie, RPG, Str…</td><td>&quot;Free To Play&quot;</td><td>0.0</td></tr><tr><td>670290.0</td><td>&quot;[Casual, Free to Play, Indie, …</td><td>&quot;Free to Play&quot;</td><td>0.0</td></tr><tr><td>767400.0</td><td>&quot;[Action, Adventure, Casual]&quot;</td><td>&quot;0.99&quot;</td><td>0.99</td></tr><tr><td>772540.0</td><td>&quot;[Action, Adventure, Simulation…</td><td>&quot;3.99&quot;</td><td>3.99</td></tr><tr><td>774276.0</td><td>&quot;[Free to Play, Indie, Simulati…</td><td>&quot;9.99&quot;</td><td>9.99</td></tr></tbody></table></div>"
      ],
      "text/plain": [
       "shape: (5, 4)\n",
       "┌────────────┬─────────────────────────────────┬──────────────┬─────────┐\n",
       "│ product_id ┆ genres                          ┆ price        ┆ literal │\n",
       "│ ---        ┆ ---                             ┆ ---          ┆ ---     │\n",
       "│ f64        ┆ str                             ┆ str          ┆ f32     │\n",
       "╞════════════╪═════════════════════════════════╪══════════════╪═════════╡\n",
       "│ 643980.0   ┆ [Free to Play, Indie, RPG, Str… ┆ Free To Play ┆ 0.0     │\n",
       "│ 670290.0   ┆ [Casual, Free to Play, Indie, … ┆ Free to Play ┆ 0.0     │\n",
       "│ 767400.0   ┆ [Action, Adventure, Casual]     ┆ 0.99         ┆ 0.99    │\n",
       "│ 772540.0   ┆ [Action, Adventure, Simulation… ┆ 3.99         ┆ 3.99    │\n",
       "│ 774276.0   ┆ [Free to Play, Indie, Simulati… ┆ 9.99         ┆ 9.99    │\n",
       "└────────────┴─────────────────────────────────┴──────────────┴─────────┘"
      ]
     },
     "execution_count": 7,
     "metadata": {},
     "output_type": "execute_result"
    }
   ],
   "source": [
    "# Filter out null rows\n",
    "items = items.drop_nulls()\n",
    "\n",
    "# Convert column `price`\n",
    "items = items.with_columns(\n",
    "    pl.when(pl.col('price').str.to_lowercase().str.contains('free'))\n",
    "    .then(0.0)\n",
    "    .when(pl.col(\"price\").str.contains(\"[a-z]+\"))\n",
    "    .then(np.nan)\n",
    "    .otherwise(pl.col('price'))\n",
    "    .cast(pl.Float32)\n",
    ")\n",
    "\n",
    "items.head()"
   ]
  },
  {
   "cell_type": "code",
   "execution_count": 9,
   "metadata": {},
   "outputs": [
    {
     "data": {
      "text/html": [
       "<div><style>\n",
       ".dataframe > thead > tr,\n",
       ".dataframe > tbody > tr {\n",
       "  text-align: right;\n",
       "  white-space: pre-wrap;\n",
       "}\n",
       "</style>\n",
       "<small>shape: (5, 5)</small><table border=\"1\" class=\"dataframe\"><thead><tr><th>product_id</th><th>genres</th><th>price</th><th>literal</th><th>list</th></tr><tr><td>f64</td><td>str</td><td>str</td><td>f32</td><td>list[str]</td></tr></thead><tbody><tr><td>643980.0</td><td>&quot;[Free to Play, Indie, RPG, Str…</td><td>&quot;Free To Play&quot;</td><td>0.0</td><td>[&quot;[Free to Play&quot;, &quot;Indie&quot;, … &quot;Strategy]&quot;]</td></tr><tr><td>670290.0</td><td>&quot;[Casual, Free to Play, Indie, …</td><td>&quot;Free to Play&quot;</td><td>0.0</td><td>[&quot;[Casual&quot;, &quot;Free to Play&quot;, … &quot;Sports]&quot;]</td></tr><tr><td>767400.0</td><td>&quot;[Action, Adventure, Casual]&quot;</td><td>&quot;0.99&quot;</td><td>0.99</td><td>[&quot;[Action&quot;, &quot;Adventure&quot;, &quot;Casual]&quot;]</td></tr><tr><td>772540.0</td><td>&quot;[Action, Adventure, Simulation…</td><td>&quot;3.99&quot;</td><td>3.99</td><td>[&quot;[Action&quot;, &quot;Adventure&quot;, &quot;Simulation]&quot;]</td></tr><tr><td>774276.0</td><td>&quot;[Free to Play, Indie, Simulati…</td><td>&quot;9.99&quot;</td><td>9.99</td><td>[&quot;[Free to Play&quot;, &quot;Indie&quot;, … &quot;Sports]&quot;]</td></tr></tbody></table></div>"
      ],
      "text/plain": [
       "shape: (5, 5)\n",
       "┌────────────┬──────────────────────────────┬──────────────┬─────────┬─────────────────────────────┐\n",
       "│ product_id ┆ genres                       ┆ price        ┆ literal ┆ list                        │\n",
       "│ ---        ┆ ---                          ┆ ---          ┆ ---     ┆ ---                         │\n",
       "│ f64        ┆ str                          ┆ str          ┆ f32     ┆ list[str]                   │\n",
       "╞════════════╪══════════════════════════════╪══════════════╪═════════╪═════════════════════════════╡\n",
       "│ 643980.0   ┆ [Free to Play, Indie, RPG,   ┆ Free To Play ┆ 0.0     ┆ [\"[Free to Play\", \"Indie\",  │\n",
       "│            ┆ Str…                         ┆              ┆         ┆ … \"…                        │\n",
       "│ 670290.0   ┆ [Casual, Free to Play,       ┆ Free to Play ┆ 0.0     ┆ [\"[Casual\", \"Free to Play\", │\n",
       "│            ┆ Indie, …                     ┆              ┆         ┆ … …                         │\n",
       "│ 767400.0   ┆ [Action, Adventure, Casual]  ┆ 0.99         ┆ 0.99    ┆ [\"[Action\", \"Adventure\",    │\n",
       "│            ┆                              ┆              ┆         ┆ \"Casu…                      │\n",
       "│ 772540.0   ┆ [Action, Adventure,          ┆ 3.99         ┆ 3.99    ┆ [\"[Action\", \"Adventure\",    │\n",
       "│            ┆ Simulation…                  ┆              ┆         ┆ \"Simu…                      │\n",
       "│ 774276.0   ┆ [Free to Play, Indie,        ┆ 9.99         ┆ 9.99    ┆ [\"[Free to Play\", \"Indie\",  │\n",
       "│            ┆ Simulati…                    ┆              ┆         ┆ … \"…                        │\n",
       "└────────────┴──────────────────────────────┴──────────────┴─────────┴─────────────────────────────┘"
      ]
     },
     "execution_count": 9,
     "metadata": {},
     "output_type": "execute_result"
    }
   ],
   "source": [
    "items.with_columns(pl.col('genres').str.split(', ').alias('list')).head()"
   ]
  },
  {
   "cell_type": "markdown",
   "metadata": {},
   "source": [
    "## Encode"
   ]
  },
  {
   "cell_type": "markdown",
   "metadata": {},
   "source": [
    "### Encode genres"
   ]
  },
  {
   "cell_type": "code",
   "execution_count": 8,
   "metadata": {},
   "outputs": [
    {
     "data": {
      "text/plain": [
       "20"
      ]
     },
     "execution_count": 8,
     "metadata": {},
     "output_type": "execute_result"
    }
   ],
   "source": [
    "genres = []\n",
    "\n",
    "for item in items.itertuples():\n",
    "    s = item.genres\n",
    "\n",
    "    s = s[1:len(s) - 1]\n",
    "    genres.extend(s.split(', '))\n",
    "\n",
    "map_genre = Dictionary(set(genres))\n",
    "\n",
    "map_genre.item2id('RPG')"
   ]
  },
  {
   "cell_type": "code",
   "execution_count": 9,
   "metadata": {},
   "outputs": [
    {
     "data": {
      "text/html": [
       "<div>\n",
       "<style scoped>\n",
       "    .dataframe tbody tr th:only-of-type {\n",
       "        vertical-align: middle;\n",
       "    }\n",
       "\n",
       "    .dataframe tbody tr th {\n",
       "        vertical-align: top;\n",
       "    }\n",
       "\n",
       "    .dataframe thead th {\n",
       "        text-align: right;\n",
       "    }\n",
       "</style>\n",
       "<table border=\"1\" class=\"dataframe\">\n",
       "  <thead>\n",
       "    <tr style=\"text-align: right;\">\n",
       "      <th></th>\n",
       "      <th>product_id</th>\n",
       "      <th>genres</th>\n",
       "      <th>price</th>\n",
       "    </tr>\n",
       "  </thead>\n",
       "  <tbody>\n",
       "    <tr>\n",
       "      <th>0</th>\n",
       "      <td>643980</td>\n",
       "      <td>[19, 6, 20, 14]</td>\n",
       "      <td>0.00</td>\n",
       "    </tr>\n",
       "    <tr>\n",
       "      <th>1</th>\n",
       "      <td>670290</td>\n",
       "      <td>[7, 19, 6, 8, 17]</td>\n",
       "      <td>0.00</td>\n",
       "    </tr>\n",
       "    <tr>\n",
       "      <th>2</th>\n",
       "      <td>767400</td>\n",
       "      <td>[1, 4, 7]</td>\n",
       "      <td>0.99</td>\n",
       "    </tr>\n",
       "    <tr>\n",
       "      <th>4</th>\n",
       "      <td>772540</td>\n",
       "      <td>[1, 4, 8]</td>\n",
       "      <td>3.99</td>\n",
       "    </tr>\n",
       "    <tr>\n",
       "      <th>5</th>\n",
       "      <td>774276</td>\n",
       "      <td>[19, 6, 8, 17]</td>\n",
       "      <td>9.99</td>\n",
       "    </tr>\n",
       "  </tbody>\n",
       "</table>\n",
       "</div>"
      ],
      "text/plain": [
       "   product_id             genres  price\n",
       "0      643980    [19, 6, 20, 14]   0.00\n",
       "1      670290  [7, 19, 6, 8, 17]   0.00\n",
       "2      767400          [1, 4, 7]   0.99\n",
       "4      772540          [1, 4, 8]   3.99\n",
       "5      774276     [19, 6, 8, 17]   9.99"
      ]
     },
     "execution_count": 9,
     "metadata": {},
     "output_type": "execute_result"
    }
   ],
   "source": [
    "def _f_encode(s: str):\n",
    "    s = s[1:len(s) - 1]\n",
    "    item_genres = np.int32([map_genre.item2id(genre) for genre in s.split(', ')])\n",
    "\n",
    "    return item_genres\n",
    "\n",
    "items['genres'] = items['genres'].map(_f_encode)\n",
    "\n",
    "items.head()"
   ]
  },
  {
   "cell_type": "markdown",
   "metadata": {},
   "source": [
    "## Save dataframe `items`"
   ]
  },
  {
   "cell_type": "code",
   "execution_count": null,
   "metadata": {},
   "outputs": [],
   "source": [
    "items.to"
   ]
  },
  {
   "cell_type": "markdown",
   "metadata": {},
   "source": [
    "# Create fact"
   ]
  },
  {
   "cell_type": "code",
   "execution_count": 10,
   "metadata": {},
   "outputs": [
    {
     "data": {
      "text/html": [
       "<div>\n",
       "<style scoped>\n",
       "    .dataframe tbody tr th:only-of-type {\n",
       "        vertical-align: middle;\n",
       "    }\n",
       "\n",
       "    .dataframe tbody tr th {\n",
       "        vertical-align: top;\n",
       "    }\n",
       "\n",
       "    .dataframe thead th {\n",
       "        text-align: right;\n",
       "    }\n",
       "</style>\n",
       "<table border=\"1\" class=\"dataframe\">\n",
       "  <thead>\n",
       "    <tr style=\"text-align: right;\">\n",
       "      <th></th>\n",
       "      <th>user_id</th>\n",
       "      <th>product_id</th>\n",
       "      <th>timestamp</th>\n",
       "      <th>genres</th>\n",
       "      <th>price</th>\n",
       "    </tr>\n",
       "  </thead>\n",
       "  <tbody>\n",
       "    <tr>\n",
       "      <th>20</th>\n",
       "      <td>13</td>\n",
       "      <td>620</td>\n",
       "      <td>1511308800</td>\n",
       "      <td>[1, 4]</td>\n",
       "      <td>19.990000</td>\n",
       "    </tr>\n",
       "    <tr>\n",
       "      <th>21</th>\n",
       "      <td>13</td>\n",
       "      <td>35140</td>\n",
       "      <td>1514937600</td>\n",
       "      <td>[1, 4]</td>\n",
       "      <td>19.990000</td>\n",
       "    </tr>\n",
       "    <tr>\n",
       "      <th>22</th>\n",
       "      <td>13</td>\n",
       "      <td>220200</td>\n",
       "      <td>1412294400</td>\n",
       "      <td>[6, 8]</td>\n",
       "      <td>39.990002</td>\n",
       "    </tr>\n",
       "    <tr>\n",
       "      <th>23</th>\n",
       "      <td>13</td>\n",
       "      <td>230410</td>\n",
       "      <td>1451520000</td>\n",
       "      <td>[1, 19]</td>\n",
       "      <td>0.000000</td>\n",
       "    </tr>\n",
       "    <tr>\n",
       "      <th>24</th>\n",
       "      <td>13</td>\n",
       "      <td>237870</td>\n",
       "      <td>1398643200</td>\n",
       "      <td>[1, 4, 6, 20, 8]</td>\n",
       "      <td>14.990000</td>\n",
       "    </tr>\n",
       "  </tbody>\n",
       "</table>\n",
       "</div>"
      ],
      "text/plain": [
       "    user_id  product_id   timestamp            genres      price\n",
       "20       13         620  1511308800            [1, 4]  19.990000\n",
       "21       13       35140  1514937600            [1, 4]  19.990000\n",
       "22       13      220200  1412294400            [6, 8]  39.990002\n",
       "23       13      230410  1451520000           [1, 19]   0.000000\n",
       "24       13      237870  1398643200  [1, 4, 6, 20, 8]  14.990000"
      ]
     },
     "execution_count": 10,
     "metadata": {},
     "output_type": "execute_result"
    }
   ],
   "source": [
    "fact = (\n",
    "    interactions\n",
    "    .merge(items, on='product_id', how='inner')\n",
    ")\n",
    "\n",
    "# Only keep nan-free records\n",
    "fact = fact[~fact.isna().any(axis=1)]\n",
    "\n",
    "## Remove duplicate\n",
    "fact = fact.groupby(['user_id', 'product_id']).first().reset_index()\n",
    "\n",
    "# Apply 5-fore filtering\n",
    "K = 5\n",
    "\n",
    "user_count = fact.groupby('user_id')['timestamp'].count()\n",
    "user_ids_valid = user_count[user_count >= K].index\n",
    "fact = fact[fact['user_id'].isin(user_ids_valid)]\n",
    "\n",
    "product_count = fact.groupby('product_id')['timestamp'].count()\n",
    "product_ids_valid = product_count[product_count >= K].index\n",
    "fact = fact[fact['product_id'].isin(product_ids_valid)]\n",
    "\n",
    "fact.head()"
   ]
  },
  {
   "cell_type": "markdown",
   "metadata": {},
   "source": [
    "### Encode user_id and product_id to indices starting from 0"
   ]
  },
  {
   "cell_type": "code",
   "execution_count": 11,
   "metadata": {},
   "outputs": [
    {
     "data": {
      "text/html": [
       "<div>\n",
       "<style scoped>\n",
       "    .dataframe tbody tr th:only-of-type {\n",
       "        vertical-align: middle;\n",
       "    }\n",
       "\n",
       "    .dataframe tbody tr th {\n",
       "        vertical-align: top;\n",
       "    }\n",
       "\n",
       "    .dataframe thead th {\n",
       "        text-align: right;\n",
       "    }\n",
       "</style>\n",
       "<table border=\"1\" class=\"dataframe\">\n",
       "  <thead>\n",
       "    <tr style=\"text-align: right;\">\n",
       "      <th></th>\n",
       "      <th>user_id</th>\n",
       "      <th>product_id</th>\n",
       "      <th>timestamp</th>\n",
       "      <th>genres</th>\n",
       "      <th>price</th>\n",
       "    </tr>\n",
       "  </thead>\n",
       "  <tbody>\n",
       "    <tr>\n",
       "      <th>20</th>\n",
       "      <td>0</td>\n",
       "      <td>0</td>\n",
       "      <td>1511308800</td>\n",
       "      <td>[1, 4]</td>\n",
       "      <td>19.990000</td>\n",
       "    </tr>\n",
       "    <tr>\n",
       "      <th>21</th>\n",
       "      <td>0</td>\n",
       "      <td>1</td>\n",
       "      <td>1514937600</td>\n",
       "      <td>[1, 4]</td>\n",
       "      <td>19.990000</td>\n",
       "    </tr>\n",
       "    <tr>\n",
       "      <th>22</th>\n",
       "      <td>0</td>\n",
       "      <td>2</td>\n",
       "      <td>1412294400</td>\n",
       "      <td>[6, 8]</td>\n",
       "      <td>39.990002</td>\n",
       "    </tr>\n",
       "    <tr>\n",
       "      <th>23</th>\n",
       "      <td>0</td>\n",
       "      <td>3</td>\n",
       "      <td>1451520000</td>\n",
       "      <td>[1, 19]</td>\n",
       "      <td>0.000000</td>\n",
       "    </tr>\n",
       "    <tr>\n",
       "      <th>24</th>\n",
       "      <td>0</td>\n",
       "      <td>4</td>\n",
       "      <td>1398643200</td>\n",
       "      <td>[1, 4, 6, 20, 8]</td>\n",
       "      <td>14.990000</td>\n",
       "    </tr>\n",
       "  </tbody>\n",
       "</table>\n",
       "</div>"
      ],
      "text/plain": [
       "    user_id  product_id   timestamp            genres      price\n",
       "20        0           0  1511308800            [1, 4]  19.990000\n",
       "21        0           1  1514937600            [1, 4]  19.990000\n",
       "22        0           2  1412294400            [6, 8]  39.990002\n",
       "23        0           3  1451520000           [1, 19]   0.000000\n",
       "24        0           4  1398643200  [1, 4, 6, 20, 8]  14.990000"
      ]
     },
     "execution_count": 11,
     "metadata": {},
     "output_type": "execute_result"
    }
   ],
   "source": [
    "map_user = Dictionary(fact['user_id'].unique())\n",
    "map_product = Dictionary(fact['product_id'].unique())\n",
    "\n",
    "fact['user_id'] = fact['user_id'].map(map_user._map_item2id)\n",
    "fact['product_id'] = fact['product_id'].map(map_product._map_item2id)\n",
    "\n",
    "fact.head()"
   ]
  },
  {
   "cell_type": "markdown",
   "metadata": {},
   "source": [
    "# Split train-val-test"
   ]
  },
  {
   "cell_type": "markdown",
   "metadata": {},
   "source": [
    "## With LOO"
   ]
  },
  {
   "cell_type": "code",
   "execution_count": 12,
   "metadata": {},
   "outputs": [],
   "source": [
    "fact = fact.sort_values(by='timestamp')"
   ]
  },
  {
   "cell_type": "code",
   "execution_count": 13,
   "metadata": {},
   "outputs": [
    {
     "data": {
      "text/html": [
       "<div>\n",
       "<style scoped>\n",
       "    .dataframe tbody tr th:only-of-type {\n",
       "        vertical-align: middle;\n",
       "    }\n",
       "\n",
       "    .dataframe tbody tr th {\n",
       "        vertical-align: top;\n",
       "    }\n",
       "\n",
       "    .dataframe thead th {\n",
       "        text-align: right;\n",
       "    }\n",
       "</style>\n",
       "<table border=\"1\" class=\"dataframe\">\n",
       "  <thead>\n",
       "    <tr style=\"text-align: right;\">\n",
       "      <th></th>\n",
       "      <th>user_id</th>\n",
       "      <th>product_id</th>\n",
       "      <th>timestamp</th>\n",
       "      <th>genres</th>\n",
       "      <th>price</th>\n",
       "    </tr>\n",
       "  </thead>\n",
       "  <tbody>\n",
       "    <tr>\n",
       "      <th>0</th>\n",
       "      <td>0</td>\n",
       "      <td>1</td>\n",
       "      <td>1514937600</td>\n",
       "      <td>[1, 4]</td>\n",
       "      <td>19.990000</td>\n",
       "    </tr>\n",
       "    <tr>\n",
       "      <th>1</th>\n",
       "      <td>1</td>\n",
       "      <td>9</td>\n",
       "      <td>1489190400</td>\n",
       "      <td>[1, 8]</td>\n",
       "      <td>19.990000</td>\n",
       "    </tr>\n",
       "    <tr>\n",
       "      <th>2</th>\n",
       "      <td>2</td>\n",
       "      <td>38</td>\n",
       "      <td>1515110400</td>\n",
       "      <td>[1, 14]</td>\n",
       "      <td>59.990002</td>\n",
       "    </tr>\n",
       "    <tr>\n",
       "      <th>3</th>\n",
       "      <td>3</td>\n",
       "      <td>44</td>\n",
       "      <td>1515110400</td>\n",
       "      <td>[1, 4, 6]</td>\n",
       "      <td>2.990000</td>\n",
       "    </tr>\n",
       "    <tr>\n",
       "      <th>4</th>\n",
       "      <td>4</td>\n",
       "      <td>82</td>\n",
       "      <td>1514592000</td>\n",
       "      <td>[4, 6]</td>\n",
       "      <td>19.990000</td>\n",
       "    </tr>\n",
       "  </tbody>\n",
       "</table>\n",
       "</div>"
      ],
      "text/plain": [
       "   user_id  product_id   timestamp     genres      price\n",
       "0        0           1  1514937600     [1, 4]  19.990000\n",
       "1        1           9  1489190400     [1, 8]  19.990000\n",
       "2        2          38  1515110400    [1, 14]  59.990002\n",
       "3        3          44  1515110400  [1, 4, 6]   2.990000\n",
       "4        4          82  1514592000     [4, 6]  19.990000"
      ]
     },
     "execution_count": 13,
     "metadata": {},
     "output_type": "execute_result"
    }
   ],
   "source": [
    "test = fact.groupby('user_id').last().reset_index()\n",
    "test.head()"
   ]
  },
  {
   "cell_type": "code",
   "execution_count": 14,
   "metadata": {},
   "outputs": [],
   "source": [
    "trainval = (\n",
    "    fact\n",
    "    .merge(test, on=['user_id', 'product_id'], how=\"outer\", indicator=True)\n",
    "    .query(\"_merge == 'left_only'\")\n",
    "    .rename(columns={\n",
    "        'timestamp_x': 'timestamp',\n",
    "        'genres_x': 'genres',\n",
    "        'price_x': 'price'\n",
    "    })\n",
    "    .drop(columns=['timestamp_y', 'genres_y', 'price_y', '_merge'])\n",
    ")\n",
    "\n",
    "val = fact.groupby('user_id').last().reset_index()\n",
    "train = (\n",
    "    trainval\n",
    "    .merge(val, on=['user_id', 'product_id'], how=\"outer\", indicator=True)\n",
    "    .query(\"_merge == 'left_only'\")\n",
    "    .rename(columns={\n",
    "        'timestamp_x': 'timestamp',\n",
    "        'genres_x': 'genres',\n",
    "        'price_x': 'price'\n",
    "    })\n",
    "    .drop(columns=['timestamp_y', 'genres_y', 'price_y', '_merge'])\n",
    ")"
   ]
  },
  {
   "cell_type": "markdown",
   "metadata": {},
   "source": [
    "# Save splits"
   ]
  },
  {
   "cell_type": "code",
   "execution_count": 16,
   "metadata": {},
   "outputs": [],
   "source": [
    "paths = Paths(\"steam\", 'loo')\n",
    "\n",
    "train.to_parquet(paths.train(), index=False)\n",
    "val.to_parquet(paths.val(), index=False)\n",
    "test.to_parquet(paths.test(), index=False)"
   ]
  },
  {
   "cell_type": "code",
   "execution_count": 17,
   "metadata": {},
   "outputs": [
    {
     "data": {
      "text/plain": [
       "22"
      ]
     },
     "execution_count": 17,
     "metadata": {},
     "output_type": "execute_result"
    }
   ],
   "source": [
    "len(map_genre)"
   ]
  },
  {
   "cell_type": "code",
   "execution_count": 18,
   "metadata": {},
   "outputs": [
    {
     "data": {
      "text/plain": [
       "4008"
      ]
     },
     "execution_count": 18,
     "metadata": {},
     "output_type": "execute_result"
    }
   ],
   "source": [
    "len(map_product)"
   ]
  },
  {
   "cell_type": "code",
   "execution_count": 19,
   "metadata": {},
   "outputs": [
    {
     "data": {
      "text/plain": [
       "25569"
      ]
     },
     "execution_count": 19,
     "metadata": {},
     "output_type": "execute_result"
    }
   ],
   "source": [
    "len(map_user)"
   ]
  }
 ],
 "metadata": {
  "kernelspec": {
   "display_name": "py",
   "language": "python",
   "name": "python3"
  },
  "language_info": {
   "codemirror_mode": {
    "name": "ipython",
    "version": 3
   },
   "file_extension": ".py",
   "mimetype": "text/x-python",
   "name": "python",
   "nbconvert_exporter": "python",
   "pygments_lexer": "ipython3",
   "version": "3.11.11"
  }
 },
 "nbformat": 4,
 "nbformat_minor": 2
}
